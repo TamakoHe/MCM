{
 "cells": [
  {
   "cell_type": "code",
   "execution_count": 40,
   "metadata": {},
   "outputs": [],
   "source": [
    "import numpy as np\n",
    "import random\n",
    "import torch \n",
    "import torch.nn as nn\n",
    "device = torch.device(\"cuda\" if torch.cuda.is_available() else \"cpu\")\n",
    "import random"
   ]
  },
  {
   "cell_type": "code",
   "execution_count": 90,
   "metadata": {},
   "outputs": [],
   "source": [
    "level_lower=np.array([182.37, 170.44, 170.33, 173.08, 73.67])\n",
    "level_upper=np.array([183.5, 177.6,177.6,175,75.4])\n",
    "level_lower=torch.from_numpy(level_lower).to(device)\n",
    "level_upper=torch.from_numpy(level_upper).to(device)\n",
    "# S M H E O\n",
    "S_2018=[183.65,183.58,183.54,183.47,183.5,183.56,183.65,183.65,183.7,183.77,183.76,183.67]\n",
    "M_2018=[176.73,176.74,176.76,176.79,176.92,176.98,176.98,176.94,176.94,176.89,176.86,176.83]\n",
    "E_2018=[174.38,174.44,174.68,174.77,174.88,174.89,174.82,174.72,174.66,174.57,174.58,174.6]\n",
    "O_2018=[74.83,74.9,74.93,75.01,75.26,75.22,75.06,74.91,74.74,74.62,74.62,74.71]\n",
    "A_2018=[S_2018,M_2018,E_2018,O_2018]\n",
    "def my_obj_func(model):\n",
    "    def get_2018(id_lake, id_month):\n",
    "        return A_2018[int(id_lake)][int(id_month)]\n",
    "    xs=[float(i) for i in range(12)]\n",
    "    ls=[float(i) for i in range(4)]\n",
    "    ys={}\n",
    "    res=torch.zeros(1).to(device).type(torch.float32)\n",
    "    for x in xs:\n",
    "        for l in ls:\n",
    "            input_x=np.array([x,l])\n",
    "            input_x=torch.from_numpy(input_x).to(device).type(torch.float32)\n",
    "            ys[f\"{x},{l}\"]=model(input_x)*200.0\n",
    "    for idx, y_key in enumerate(ys.keys()):\n",
    "        lake_idx=int(float((y_key.split(\",\")[1])))\n",
    "        if ys[y_key]>level_upper[lake_idx]:\n",
    "            res+=1000*torch.abs(ys[y_key]-level_upper[lake_idx])\n",
    "        elif ys[y_key]<level_lower[lake_idx]:\n",
    "            res+=1000*torch.abs(ys[y_key]-level_lower[lake_idx])\n",
    "    # 游客, 航运, 生态\n",
    "    ws=[1,1,1]\n",
    "    tor=torch.zeros(1).to(device).type(torch.float32)\n",
    "    shp=torch.zeros(1).to(device).type(torch.float32)\n",
    "    env=torch.zeros(1).to(device).type(torch.float32)\n",
    "    for x in range(4,8):\n",
    "        for l in ls:\n",
    "            beta=random.gauss(177.9)\n",
    "            tor+=ws[0]*torch.abs(ys[f\"{float(x)},{l}\"]-beta)\n",
    "    res+=torch.mean(tor)\n",
    "    for x in range(12):\n",
    "        for l in ls:\n",
    "            beta=random.gauss(187.6)\n",
    "            shp+=ws[1]*torch.abs(ys[f\"{float(x)},{l}\"]-beta)\n",
    "    res+=torch.mean(shp)\n",
    "    for x in range(12):\n",
    "        for l in ls:\n",
    "            env+=ws[2]*torch.abs(ys[f\"{float(x)},{l}\"]-get_2018(l, x))\n",
    "    res+=torch.mean(env)\n",
    "    return res"
   ]
  },
  {
   "cell_type": "code",
   "execution_count": 91,
   "metadata": {},
   "outputs": [
    {
     "name": "stdout",
     "output_type": "stream",
     "text": [
      "Iteration 1/50 - Global Best Loss: 22270240.75\n",
      "Iteration 2/50 - Global Best Loss: 19859985.0\n",
      "Iteration 3/50 - Global Best Loss: 12772341.25\n",
      "Iteration 4/50 - Global Best Loss: 6908765.25\n",
      "Iteration 5/50 - Global Best Loss: 6640177.9375\n",
      "Iteration 6/50 - Global Best Loss: 6084593.5\n",
      "Iteration 7/50 - Global Best Loss: 6084593.5\n",
      "Iteration 8/50 - Global Best Loss: 6084593.5\n",
      "Iteration 9/50 - Global Best Loss: 5753969.0\n",
      "Iteration 10/50 - Global Best Loss: 5256085.125\n",
      "Iteration 11/50 - Global Best Loss: 3280226.90625\n",
      "Iteration 12/50 - Global Best Loss: 2867230.875\n",
      "Iteration 13/50 - Global Best Loss: 2867230.875\n",
      "Iteration 14/50 - Global Best Loss: 2698800.90625\n",
      "Iteration 15/50 - Global Best Loss: 2234988.984375\n",
      "Iteration 16/50 - Global Best Loss: 2234988.984375\n",
      "Iteration 17/50 - Global Best Loss: 2234988.984375\n",
      "Iteration 18/50 - Global Best Loss: 2203533.0\n",
      "Iteration 19/50 - Global Best Loss: 2165320.578125\n",
      "Iteration 20/50 - Global Best Loss: 1594104.703125\n",
      "Iteration 21/50 - Global Best Loss: 1294542.953125\n",
      "Iteration 22/50 - Global Best Loss: 1294542.953125\n",
      "Iteration 23/50 - Global Best Loss: 1231820.5703125\n",
      "Iteration 24/50 - Global Best Loss: 1231820.5703125\n",
      "Iteration 25/50 - Global Best Loss: 1110399.25\n",
      "Iteration 26/50 - Global Best Loss: 1109435.8828125\n",
      "Iteration 27/50 - Global Best Loss: 1077952.609375\n",
      "Iteration 28/50 - Global Best Loss: 1077952.609375\n",
      "Iteration 29/50 - Global Best Loss: 1077952.609375\n",
      "Iteration 30/50 - Global Best Loss: 1071056.1953125\n",
      "Iteration 31/50 - Global Best Loss: 1052497.109375\n",
      "Iteration 32/50 - Global Best Loss: 983867.0390625\n",
      "Iteration 33/50 - Global Best Loss: 983867.0390625\n",
      "Iteration 34/50 - Global Best Loss: 973871.1484375\n",
      "Iteration 35/50 - Global Best Loss: 973871.1484375\n",
      "Iteration 36/50 - Global Best Loss: 973871.1484375\n",
      "Iteration 37/50 - Global Best Loss: 972362.4921875\n",
      "Iteration 38/50 - Global Best Loss: 972362.4921875\n",
      "Iteration 39/50 - Global Best Loss: 972362.4921875\n",
      "Iteration 40/50 - Global Best Loss: 970442.796875\n",
      "Iteration 41/50 - Global Best Loss: 965819.796875\n",
      "Iteration 42/50 - Global Best Loss: 962196.015625\n",
      "Iteration 43/50 - Global Best Loss: 960764.15625\n",
      "Iteration 44/50 - Global Best Loss: 949188.609375\n",
      "Iteration 45/50 - Global Best Loss: 945789.9765625\n",
      "Iteration 46/50 - Global Best Loss: 940417.59375\n",
      "Iteration 47/50 - Global Best Loss: 936582.34375\n",
      "Iteration 48/50 - Global Best Loss: 932184.2734375\n",
      "Iteration 49/50 - Global Best Loss: 926689.8984375\n",
      "Iteration 50/50 - Global Best Loss: 919013.9140625\n"
     ]
    }
   ],
   "source": [
    "import torch\n",
    "import torch.nn as nn\n",
    "import torch.optim as optim\n",
    "import numpy as np\n",
    "\n",
    "# Define the Fully Connected Neural Network\n",
    "class FCNN(nn.Module):\n",
    "    def __init__(self, input_size, hidden_size, output_size):\n",
    "        super(FCNN, self).__init__()\n",
    "        self.fc1 = nn.Linear(input_size, hidden_size)\n",
    "        self.fc2=nn.Linear(hidden_size, hidden_size)\n",
    "        self.fc3 = nn.Linear(hidden_size, output_size)\n",
    "\n",
    "    def forward(self, x):\n",
    "        x = torch.relu(self.fc1(x))\n",
    "        x=torch.relu(self.fc2(x))\n",
    "        x = self.fc3(x)\n",
    "        return x\n",
    "\n",
    "# Define the custom loss function (for example, MSE and L2 regularization)\n",
    "def custom_loss(output, target, model, lambda_reg=0.01):\n",
    "    # MSE loss\n",
    "    mse_loss = my_obj_func(model)\n",
    "    \n",
    "    # L2 Regularization (on weights)\n",
    "    l2_reg = sum(torch.sum(param ** 2) for param in model.parameters())\n",
    "    \n",
    "    return mse_loss + lambda_reg * l2_reg\n",
    "\n",
    "# Particle class for MOPSO\n",
    "class Particle:\n",
    "    def __init__(self, model, input_size, hidden_size, output_size, lower_bound, upper_bound, device):\n",
    "        self.device = device\n",
    "        self.position = []\n",
    "        self.velocity = []\n",
    "        self.best_position = []\n",
    "        self.best_objectives = []\n",
    "        \n",
    "        # Initialize weights (randomly within bounds)\n",
    "        for param in model.parameters():\n",
    "            shape = param.shape\n",
    "            param_size = param.numel()\n",
    "            \n",
    "            # Initialize position and velocity\n",
    "            self.position.append(torch.rand_like(param, device=self.device) * (upper_bound - lower_bound) + lower_bound)\n",
    "            self.velocity.append(torch.rand_like(param, device=self.device) * 0.1)\n",
    "            self.best_position.append(self.position[-1].clone())\n",
    "            self.best_objectives.append(np.inf)  # Start with a high objective value\n",
    "        \n",
    "        # Flatten lists of tensors into single tensor\n",
    "        self.position = torch.cat([p.view(-1) for p in self.position])\n",
    "        self.velocity = torch.cat([v.view(-1) for v in self.velocity])\n",
    "        self.best_position = torch.cat([bp.view(-1) for bp in self.best_position])\n",
    "\n",
    "    def update_velocity(self, global_best_position, inertia, cognitive_weight, social_weight):\n",
    "        r1, r2 = torch.rand(2, device=self.device)\n",
    "        self.velocity = (inertia * self.velocity +\n",
    "                         cognitive_weight * r1 * (self.best_position - self.position) +\n",
    "                         social_weight * r2 * (global_best_position - self.position))\n",
    "\n",
    "    def update_position(self, lower_bound, upper_bound):\n",
    "        self.position += self.velocity\n",
    "        self.position = torch.clamp(self.position, min=lower_bound, max=upper_bound)\n",
    "\n",
    "    def update_best(self, loss_value):\n",
    "        if loss_value < self.best_objectives[0]:  # Assuming single objective\n",
    "            self.best_position = self.position.clone()\n",
    "            self.best_objectives[0] = loss_value\n",
    "\n",
    "# MOPSO Algorithm\n",
    "class MOPSO:\n",
    "    def __init__(self, model, input_size, hidden_size, output_size, population_size, lower_bound, upper_bound, inertia, cognitive_weight, social_weight, iterations, train_loader, lambda_reg=0.01, device='cuda'):\n",
    "        self.model = model.to(device)\n",
    "        self.input_size = input_size\n",
    "        self.hidden_size = hidden_size\n",
    "        self.output_size = output_size\n",
    "        self.population_size = population_size\n",
    "        self.lower_bound = lower_bound\n",
    "        self.upper_bound = upper_bound\n",
    "        self.inertia = inertia\n",
    "        self.cognitive_weight = cognitive_weight\n",
    "        self.social_weight = social_weight\n",
    "        self.iterations = iterations\n",
    "        self.train_loader = train_loader\n",
    "        self.lambda_reg = lambda_reg\n",
    "        self.device = device\n",
    "\n",
    "        # Initialize the particles\n",
    "        self.particles = [Particle(model, input_size, hidden_size, output_size, lower_bound, upper_bound, device) for _ in range(population_size)]\n",
    "        self.global_best_position = self.particles[0].best_position\n",
    "\n",
    "    def run(self):\n",
    "        for iteration in range(self.iterations):\n",
    "            for particle in self.particles:\n",
    "                # Set model parameters to the particle's position (flattened)\n",
    "                idx = 0\n",
    "                with torch.no_grad():\n",
    "                    for param in self.model.parameters():\n",
    "                        param_size = param.numel()\n",
    "                        param.data = particle.position[idx:idx+param_size].view(param.shape)\n",
    "                        idx += param_size\n",
    "\n",
    "                # Calculate loss using the model\n",
    "                total_loss = 0\n",
    "                for inputs, targets in self.train_loader:\n",
    "                    inputs, targets = inputs.to(self.device), targets.to(self.device)\n",
    "                    outputs = self.model(inputs)\n",
    "                    loss = custom_loss(outputs, targets, self.model, lambda_reg=self.lambda_reg)\n",
    "                    total_loss += loss.item()\n",
    "\n",
    "                # Update particle's best\n",
    "                particle.update_best(total_loss)\n",
    "\n",
    "            # Update global best position\n",
    "            self.global_best_position = min(self.particles, key=lambda p: p.best_objectives[0]).best_position\n",
    "\n",
    "            # Update particles' velocities and positions\n",
    "            for particle in self.particles:\n",
    "                particle.update_velocity(self.global_best_position, self.inertia, self.cognitive_weight, self.social_weight)\n",
    "                particle.update_position(self.lower_bound, self.upper_bound)\n",
    "\n",
    "            # Print the progress\n",
    "            print(f\"Iteration {iteration+1}/{self.iterations} - Global Best Loss: {min([p.best_objectives[0] for p in self.particles])}\")\n",
    "\n",
    "# Example usage\n",
    "if __name__ == \"__main__\":\n",
    "    # Set up training data (dummy dataset for illustration)\n",
    "    input_size = 2\n",
    "    hidden_size = 5\n",
    "    output_size = 1\n",
    "    train_data = torch.randn(100, input_size)\n",
    "    train_data[:,0]*=11.0\n",
    "    train_data[:,1]*=3.0\n",
    "    train_targets = torch.randn(100, output_size)\n",
    "    train_loader = torch.utils.data.DataLoader(list(zip(train_data, train_targets)), batch_size=10)\n",
    "\n",
    "    # Define the model\n",
    "    model = FCNN(input_size, hidden_size, output_size)\n",
    "\n",
    "    # MOPSO parameters\n",
    "    population_size = 30\n",
    "    lower_bound = -0.5\n",
    "    upper_bound = 0.5\n",
    "    inertia = 0.7\n",
    "    cognitive_weight = 1.5\n",
    "    social_weight = 1.5\n",
    "    iterations = 150\n",
    "\n",
    "    # Device configuration (set to \"cuda\" if GPU is available, otherwise \"cpu\")\n",
    "    \n",
    "\n",
    "    # Run MOPSO\n",
    "    mopso = MOPSO(model, input_size, hidden_size, output_size, population_size, lower_bound, upper_bound, inertia, cognitive_weight, social_weight, iterations, train_loader, device=device)\n",
    "    mopso.run()\n"
   ]
  },
  {
   "cell_type": "code",
   "execution_count": 97,
   "metadata": {},
   "outputs": [],
   "source": [
    "test_S=[]\n",
    "test_M=[]\n",
    "test_E=[]\n",
    "test_O=[]\n",
    "def construct_test(var:list, lake_id:int):\n",
    "    for mm in range(12):\n",
    "        var.append([mm,lake_id])\n",
    "construct_test(test_S,0)\n",
    "construct_test(test_M,1)\n",
    "construct_test(test_E,2)\n",
    "construct_test(test_O, 3)\n",
    "# S M E O\n",
    "test_S=torch.from_numpy(np.array(test_S)).to(device=device).type(torch.float32)\n",
    "test_M=torch.from_numpy(np.array(test_M)).to(device=device).type(torch.float32)\n",
    "test_E=torch.from_numpy(np.array(test_E)).to(device=device).type(torch.float32)\n",
    "test_O=torch.from_numpy(np.array(test_O)).to(device=device).type(torch.float32)\n",
    "res_S=[]\n",
    "res_M=[]\n",
    "res_E=[]\n",
    "res_O=[]\n",
    "for data in test_S:\n",
    "    res_S.append((model(data)*200).cpu().item())\n",
    "for data in test_M:\n",
    "    res_M.append((model(data)*200).cpu().item())\n",
    "for data in test_E:\n",
    "    res_E.append((model(data)*200).cpu().item())\n",
    "for data in test_O:\n",
    "    res_O.append((model(data)*200).cpu().item())"
   ]
  },
  {
   "cell_type": "code",
   "execution_count": 101,
   "metadata": {},
   "outputs": [
    {
     "name": "stdout",
     "output_type": "stream",
     "text": [
      "12\n"
     ]
    }
   ],
   "source": [
    "print(len(res_S))"
   ]
  },
  {
   "cell_type": "code",
   "execution_count": 108,
   "metadata": {},
   "outputs": [
    {
     "data": {
      "application/vnd.plotly.v1+json": {
       "config": {
        "plotlyServerURL": "https://plot.ly"
       },
       "data": [
        {
         "mode": "lines+markers",
         "type": "scatter",
         "x": [
          0,
          1,
          2,
          3,
          4,
          5,
          6,
          7,
          8,
          9,
          10,
          11
         ],
         "y": [
          172.72036743164062,
          174.4553985595703,
          176.5730438232422,
          176.10247802734375,
          175.63198852539062,
          175.16140747070312,
          174.6908721923828,
          174.22035217285156,
          173.74978637695312,
          173.27932739257812,
          172.808837890625,
          172.33824157714844
         ]
        }
       ],
       "layout": {
        "template": {
         "data": {
          "bar": [
           {
            "error_x": {
             "color": "#2a3f5f"
            },
            "error_y": {
             "color": "#2a3f5f"
            },
            "marker": {
             "line": {
              "color": "#E5ECF6",
              "width": 0.5
             },
             "pattern": {
              "fillmode": "overlay",
              "size": 10,
              "solidity": 0.2
             }
            },
            "type": "bar"
           }
          ],
          "barpolar": [
           {
            "marker": {
             "line": {
              "color": "#E5ECF6",
              "width": 0.5
             },
             "pattern": {
              "fillmode": "overlay",
              "size": 10,
              "solidity": 0.2
             }
            },
            "type": "barpolar"
           }
          ],
          "carpet": [
           {
            "aaxis": {
             "endlinecolor": "#2a3f5f",
             "gridcolor": "white",
             "linecolor": "white",
             "minorgridcolor": "white",
             "startlinecolor": "#2a3f5f"
            },
            "baxis": {
             "endlinecolor": "#2a3f5f",
             "gridcolor": "white",
             "linecolor": "white",
             "minorgridcolor": "white",
             "startlinecolor": "#2a3f5f"
            },
            "type": "carpet"
           }
          ],
          "choropleth": [
           {
            "colorbar": {
             "outlinewidth": 0,
             "ticks": ""
            },
            "type": "choropleth"
           }
          ],
          "contour": [
           {
            "colorbar": {
             "outlinewidth": 0,
             "ticks": ""
            },
            "colorscale": [
             [
              0,
              "#0d0887"
             ],
             [
              0.1111111111111111,
              "#46039f"
             ],
             [
              0.2222222222222222,
              "#7201a8"
             ],
             [
              0.3333333333333333,
              "#9c179e"
             ],
             [
              0.4444444444444444,
              "#bd3786"
             ],
             [
              0.5555555555555556,
              "#d8576b"
             ],
             [
              0.6666666666666666,
              "#ed7953"
             ],
             [
              0.7777777777777778,
              "#fb9f3a"
             ],
             [
              0.8888888888888888,
              "#fdca26"
             ],
             [
              1,
              "#f0f921"
             ]
            ],
            "type": "contour"
           }
          ],
          "contourcarpet": [
           {
            "colorbar": {
             "outlinewidth": 0,
             "ticks": ""
            },
            "type": "contourcarpet"
           }
          ],
          "heatmap": [
           {
            "colorbar": {
             "outlinewidth": 0,
             "ticks": ""
            },
            "colorscale": [
             [
              0,
              "#0d0887"
             ],
             [
              0.1111111111111111,
              "#46039f"
             ],
             [
              0.2222222222222222,
              "#7201a8"
             ],
             [
              0.3333333333333333,
              "#9c179e"
             ],
             [
              0.4444444444444444,
              "#bd3786"
             ],
             [
              0.5555555555555556,
              "#d8576b"
             ],
             [
              0.6666666666666666,
              "#ed7953"
             ],
             [
              0.7777777777777778,
              "#fb9f3a"
             ],
             [
              0.8888888888888888,
              "#fdca26"
             ],
             [
              1,
              "#f0f921"
             ]
            ],
            "type": "heatmap"
           }
          ],
          "heatmapgl": [
           {
            "colorbar": {
             "outlinewidth": 0,
             "ticks": ""
            },
            "colorscale": [
             [
              0,
              "#0d0887"
             ],
             [
              0.1111111111111111,
              "#46039f"
             ],
             [
              0.2222222222222222,
              "#7201a8"
             ],
             [
              0.3333333333333333,
              "#9c179e"
             ],
             [
              0.4444444444444444,
              "#bd3786"
             ],
             [
              0.5555555555555556,
              "#d8576b"
             ],
             [
              0.6666666666666666,
              "#ed7953"
             ],
             [
              0.7777777777777778,
              "#fb9f3a"
             ],
             [
              0.8888888888888888,
              "#fdca26"
             ],
             [
              1,
              "#f0f921"
             ]
            ],
            "type": "heatmapgl"
           }
          ],
          "histogram": [
           {
            "marker": {
             "pattern": {
              "fillmode": "overlay",
              "size": 10,
              "solidity": 0.2
             }
            },
            "type": "histogram"
           }
          ],
          "histogram2d": [
           {
            "colorbar": {
             "outlinewidth": 0,
             "ticks": ""
            },
            "colorscale": [
             [
              0,
              "#0d0887"
             ],
             [
              0.1111111111111111,
              "#46039f"
             ],
             [
              0.2222222222222222,
              "#7201a8"
             ],
             [
              0.3333333333333333,
              "#9c179e"
             ],
             [
              0.4444444444444444,
              "#bd3786"
             ],
             [
              0.5555555555555556,
              "#d8576b"
             ],
             [
              0.6666666666666666,
              "#ed7953"
             ],
             [
              0.7777777777777778,
              "#fb9f3a"
             ],
             [
              0.8888888888888888,
              "#fdca26"
             ],
             [
              1,
              "#f0f921"
             ]
            ],
            "type": "histogram2d"
           }
          ],
          "histogram2dcontour": [
           {
            "colorbar": {
             "outlinewidth": 0,
             "ticks": ""
            },
            "colorscale": [
             [
              0,
              "#0d0887"
             ],
             [
              0.1111111111111111,
              "#46039f"
             ],
             [
              0.2222222222222222,
              "#7201a8"
             ],
             [
              0.3333333333333333,
              "#9c179e"
             ],
             [
              0.4444444444444444,
              "#bd3786"
             ],
             [
              0.5555555555555556,
              "#d8576b"
             ],
             [
              0.6666666666666666,
              "#ed7953"
             ],
             [
              0.7777777777777778,
              "#fb9f3a"
             ],
             [
              0.8888888888888888,
              "#fdca26"
             ],
             [
              1,
              "#f0f921"
             ]
            ],
            "type": "histogram2dcontour"
           }
          ],
          "mesh3d": [
           {
            "colorbar": {
             "outlinewidth": 0,
             "ticks": ""
            },
            "type": "mesh3d"
           }
          ],
          "parcoords": [
           {
            "line": {
             "colorbar": {
              "outlinewidth": 0,
              "ticks": ""
             }
            },
            "type": "parcoords"
           }
          ],
          "pie": [
           {
            "automargin": true,
            "type": "pie"
           }
          ],
          "scatter": [
           {
            "fillpattern": {
             "fillmode": "overlay",
             "size": 10,
             "solidity": 0.2
            },
            "type": "scatter"
           }
          ],
          "scatter3d": [
           {
            "line": {
             "colorbar": {
              "outlinewidth": 0,
              "ticks": ""
             }
            },
            "marker": {
             "colorbar": {
              "outlinewidth": 0,
              "ticks": ""
             }
            },
            "type": "scatter3d"
           }
          ],
          "scattercarpet": [
           {
            "marker": {
             "colorbar": {
              "outlinewidth": 0,
              "ticks": ""
             }
            },
            "type": "scattercarpet"
           }
          ],
          "scattergeo": [
           {
            "marker": {
             "colorbar": {
              "outlinewidth": 0,
              "ticks": ""
             }
            },
            "type": "scattergeo"
           }
          ],
          "scattergl": [
           {
            "marker": {
             "colorbar": {
              "outlinewidth": 0,
              "ticks": ""
             }
            },
            "type": "scattergl"
           }
          ],
          "scattermapbox": [
           {
            "marker": {
             "colorbar": {
              "outlinewidth": 0,
              "ticks": ""
             }
            },
            "type": "scattermapbox"
           }
          ],
          "scatterpolar": [
           {
            "marker": {
             "colorbar": {
              "outlinewidth": 0,
              "ticks": ""
             }
            },
            "type": "scatterpolar"
           }
          ],
          "scatterpolargl": [
           {
            "marker": {
             "colorbar": {
              "outlinewidth": 0,
              "ticks": ""
             }
            },
            "type": "scatterpolargl"
           }
          ],
          "scatterternary": [
           {
            "marker": {
             "colorbar": {
              "outlinewidth": 0,
              "ticks": ""
             }
            },
            "type": "scatterternary"
           }
          ],
          "surface": [
           {
            "colorbar": {
             "outlinewidth": 0,
             "ticks": ""
            },
            "colorscale": [
             [
              0,
              "#0d0887"
             ],
             [
              0.1111111111111111,
              "#46039f"
             ],
             [
              0.2222222222222222,
              "#7201a8"
             ],
             [
              0.3333333333333333,
              "#9c179e"
             ],
             [
              0.4444444444444444,
              "#bd3786"
             ],
             [
              0.5555555555555556,
              "#d8576b"
             ],
             [
              0.6666666666666666,
              "#ed7953"
             ],
             [
              0.7777777777777778,
              "#fb9f3a"
             ],
             [
              0.8888888888888888,
              "#fdca26"
             ],
             [
              1,
              "#f0f921"
             ]
            ],
            "type": "surface"
           }
          ],
          "table": [
           {
            "cells": {
             "fill": {
              "color": "#EBF0F8"
             },
             "line": {
              "color": "white"
             }
            },
            "header": {
             "fill": {
              "color": "#C8D4E3"
             },
             "line": {
              "color": "white"
             }
            },
            "type": "table"
           }
          ]
         },
         "layout": {
          "annotationdefaults": {
           "arrowcolor": "#2a3f5f",
           "arrowhead": 0,
           "arrowwidth": 1
          },
          "autotypenumbers": "strict",
          "coloraxis": {
           "colorbar": {
            "outlinewidth": 0,
            "ticks": ""
           }
          },
          "colorscale": {
           "diverging": [
            [
             0,
             "#8e0152"
            ],
            [
             0.1,
             "#c51b7d"
            ],
            [
             0.2,
             "#de77ae"
            ],
            [
             0.3,
             "#f1b6da"
            ],
            [
             0.4,
             "#fde0ef"
            ],
            [
             0.5,
             "#f7f7f7"
            ],
            [
             0.6,
             "#e6f5d0"
            ],
            [
             0.7,
             "#b8e186"
            ],
            [
             0.8,
             "#7fbc41"
            ],
            [
             0.9,
             "#4d9221"
            ],
            [
             1,
             "#276419"
            ]
           ],
           "sequential": [
            [
             0,
             "#0d0887"
            ],
            [
             0.1111111111111111,
             "#46039f"
            ],
            [
             0.2222222222222222,
             "#7201a8"
            ],
            [
             0.3333333333333333,
             "#9c179e"
            ],
            [
             0.4444444444444444,
             "#bd3786"
            ],
            [
             0.5555555555555556,
             "#d8576b"
            ],
            [
             0.6666666666666666,
             "#ed7953"
            ],
            [
             0.7777777777777778,
             "#fb9f3a"
            ],
            [
             0.8888888888888888,
             "#fdca26"
            ],
            [
             1,
             "#f0f921"
            ]
           ],
           "sequentialminus": [
            [
             0,
             "#0d0887"
            ],
            [
             0.1111111111111111,
             "#46039f"
            ],
            [
             0.2222222222222222,
             "#7201a8"
            ],
            [
             0.3333333333333333,
             "#9c179e"
            ],
            [
             0.4444444444444444,
             "#bd3786"
            ],
            [
             0.5555555555555556,
             "#d8576b"
            ],
            [
             0.6666666666666666,
             "#ed7953"
            ],
            [
             0.7777777777777778,
             "#fb9f3a"
            ],
            [
             0.8888888888888888,
             "#fdca26"
            ],
            [
             1,
             "#f0f921"
            ]
           ]
          },
          "colorway": [
           "#636efa",
           "#EF553B",
           "#00cc96",
           "#ab63fa",
           "#FFA15A",
           "#19d3f3",
           "#FF6692",
           "#B6E880",
           "#FF97FF",
           "#FECB52"
          ],
          "font": {
           "color": "#2a3f5f"
          },
          "geo": {
           "bgcolor": "white",
           "lakecolor": "white",
           "landcolor": "#E5ECF6",
           "showlakes": true,
           "showland": true,
           "subunitcolor": "white"
          },
          "hoverlabel": {
           "align": "left"
          },
          "hovermode": "closest",
          "mapbox": {
           "style": "light"
          },
          "paper_bgcolor": "white",
          "plot_bgcolor": "#E5ECF6",
          "polar": {
           "angularaxis": {
            "gridcolor": "white",
            "linecolor": "white",
            "ticks": ""
           },
           "bgcolor": "#E5ECF6",
           "radialaxis": {
            "gridcolor": "white",
            "linecolor": "white",
            "ticks": ""
           }
          },
          "scene": {
           "xaxis": {
            "backgroundcolor": "#E5ECF6",
            "gridcolor": "white",
            "gridwidth": 2,
            "linecolor": "white",
            "showbackground": true,
            "ticks": "",
            "zerolinecolor": "white"
           },
           "yaxis": {
            "backgroundcolor": "#E5ECF6",
            "gridcolor": "white",
            "gridwidth": 2,
            "linecolor": "white",
            "showbackground": true,
            "ticks": "",
            "zerolinecolor": "white"
           },
           "zaxis": {
            "backgroundcolor": "#E5ECF6",
            "gridcolor": "white",
            "gridwidth": 2,
            "linecolor": "white",
            "showbackground": true,
            "ticks": "",
            "zerolinecolor": "white"
           }
          },
          "shapedefaults": {
           "line": {
            "color": "#2a3f5f"
           }
          },
          "ternary": {
           "aaxis": {
            "gridcolor": "white",
            "linecolor": "white",
            "ticks": ""
           },
           "baxis": {
            "gridcolor": "white",
            "linecolor": "white",
            "ticks": ""
           },
           "bgcolor": "#E5ECF6",
           "caxis": {
            "gridcolor": "white",
            "linecolor": "white",
            "ticks": ""
           }
          },
          "title": {
           "x": 0.05
          },
          "xaxis": {
           "automargin": true,
           "gridcolor": "white",
           "linecolor": "white",
           "ticks": "",
           "title": {
            "standoff": 15
           },
           "zerolinecolor": "white",
           "zerolinewidth": 2
          },
          "yaxis": {
           "automargin": true,
           "gridcolor": "white",
           "linecolor": "white",
           "ticks": "",
           "title": {
            "standoff": 15
           },
           "zerolinecolor": "white",
           "zerolinewidth": 2
          }
         }
        }
       }
      },
      "text/html": [
       "<div>                            <div id=\"288909dd-8de3-40fa-b214-d8433e42ff62\" class=\"plotly-graph-div\" style=\"height:525px; width:100%;\"></div>            <script type=\"text/javascript\">                require([\"plotly\"], function(Plotly) {                    window.PLOTLYENV=window.PLOTLYENV || {};                                    if (document.getElementById(\"288909dd-8de3-40fa-b214-d8433e42ff62\")) {                    Plotly.newPlot(                        \"288909dd-8de3-40fa-b214-d8433e42ff62\",                        [{\"mode\":\"lines+markers\",\"x\":[0,1,2,3,4,5,6,7,8,9,10,11],\"y\":[172.72036743164062,174.4553985595703,176.5730438232422,176.10247802734375,175.63198852539062,175.16140747070312,174.6908721923828,174.22035217285156,173.74978637695312,173.27932739257812,172.808837890625,172.33824157714844],\"type\":\"scatter\"}],                        {\"template\":{\"data\":{\"histogram2dcontour\":[{\"type\":\"histogram2dcontour\",\"colorbar\":{\"outlinewidth\":0,\"ticks\":\"\"},\"colorscale\":[[0.0,\"#0d0887\"],[0.1111111111111111,\"#46039f\"],[0.2222222222222222,\"#7201a8\"],[0.3333333333333333,\"#9c179e\"],[0.4444444444444444,\"#bd3786\"],[0.5555555555555556,\"#d8576b\"],[0.6666666666666666,\"#ed7953\"],[0.7777777777777778,\"#fb9f3a\"],[0.8888888888888888,\"#fdca26\"],[1.0,\"#f0f921\"]]}],\"choropleth\":[{\"type\":\"choropleth\",\"colorbar\":{\"outlinewidth\":0,\"ticks\":\"\"}}],\"histogram2d\":[{\"type\":\"histogram2d\",\"colorbar\":{\"outlinewidth\":0,\"ticks\":\"\"},\"colorscale\":[[0.0,\"#0d0887\"],[0.1111111111111111,\"#46039f\"],[0.2222222222222222,\"#7201a8\"],[0.3333333333333333,\"#9c179e\"],[0.4444444444444444,\"#bd3786\"],[0.5555555555555556,\"#d8576b\"],[0.6666666666666666,\"#ed7953\"],[0.7777777777777778,\"#fb9f3a\"],[0.8888888888888888,\"#fdca26\"],[1.0,\"#f0f921\"]]}],\"heatmap\":[{\"type\":\"heatmap\",\"colorbar\":{\"outlinewidth\":0,\"ticks\":\"\"},\"colorscale\":[[0.0,\"#0d0887\"],[0.1111111111111111,\"#46039f\"],[0.2222222222222222,\"#7201a8\"],[0.3333333333333333,\"#9c179e\"],[0.4444444444444444,\"#bd3786\"],[0.5555555555555556,\"#d8576b\"],[0.6666666666666666,\"#ed7953\"],[0.7777777777777778,\"#fb9f3a\"],[0.8888888888888888,\"#fdca26\"],[1.0,\"#f0f921\"]]}],\"heatmapgl\":[{\"type\":\"heatmapgl\",\"colorbar\":{\"outlinewidth\":0,\"ticks\":\"\"},\"colorscale\":[[0.0,\"#0d0887\"],[0.1111111111111111,\"#46039f\"],[0.2222222222222222,\"#7201a8\"],[0.3333333333333333,\"#9c179e\"],[0.4444444444444444,\"#bd3786\"],[0.5555555555555556,\"#d8576b\"],[0.6666666666666666,\"#ed7953\"],[0.7777777777777778,\"#fb9f3a\"],[0.8888888888888888,\"#fdca26\"],[1.0,\"#f0f921\"]]}],\"contourcarpet\":[{\"type\":\"contourcarpet\",\"colorbar\":{\"outlinewidth\":0,\"ticks\":\"\"}}],\"contour\":[{\"type\":\"contour\",\"colorbar\":{\"outlinewidth\":0,\"ticks\":\"\"},\"colorscale\":[[0.0,\"#0d0887\"],[0.1111111111111111,\"#46039f\"],[0.2222222222222222,\"#7201a8\"],[0.3333333333333333,\"#9c179e\"],[0.4444444444444444,\"#bd3786\"],[0.5555555555555556,\"#d8576b\"],[0.6666666666666666,\"#ed7953\"],[0.7777777777777778,\"#fb9f3a\"],[0.8888888888888888,\"#fdca26\"],[1.0,\"#f0f921\"]]}],\"surface\":[{\"type\":\"surface\",\"colorbar\":{\"outlinewidth\":0,\"ticks\":\"\"},\"colorscale\":[[0.0,\"#0d0887\"],[0.1111111111111111,\"#46039f\"],[0.2222222222222222,\"#7201a8\"],[0.3333333333333333,\"#9c179e\"],[0.4444444444444444,\"#bd3786\"],[0.5555555555555556,\"#d8576b\"],[0.6666666666666666,\"#ed7953\"],[0.7777777777777778,\"#fb9f3a\"],[0.8888888888888888,\"#fdca26\"],[1.0,\"#f0f921\"]]}],\"mesh3d\":[{\"type\":\"mesh3d\",\"colorbar\":{\"outlinewidth\":0,\"ticks\":\"\"}}],\"scatter\":[{\"fillpattern\":{\"fillmode\":\"overlay\",\"size\":10,\"solidity\":0.2},\"type\":\"scatter\"}],\"parcoords\":[{\"type\":\"parcoords\",\"line\":{\"colorbar\":{\"outlinewidth\":0,\"ticks\":\"\"}}}],\"scatterpolargl\":[{\"type\":\"scatterpolargl\",\"marker\":{\"colorbar\":{\"outlinewidth\":0,\"ticks\":\"\"}}}],\"bar\":[{\"error_x\":{\"color\":\"#2a3f5f\"},\"error_y\":{\"color\":\"#2a3f5f\"},\"marker\":{\"line\":{\"color\":\"#E5ECF6\",\"width\":0.5},\"pattern\":{\"fillmode\":\"overlay\",\"size\":10,\"solidity\":0.2}},\"type\":\"bar\"}],\"scattergeo\":[{\"type\":\"scattergeo\",\"marker\":{\"colorbar\":{\"outlinewidth\":0,\"ticks\":\"\"}}}],\"scatterpolar\":[{\"type\":\"scatterpolar\",\"marker\":{\"colorbar\":{\"outlinewidth\":0,\"ticks\":\"\"}}}],\"histogram\":[{\"marker\":{\"pattern\":{\"fillmode\":\"overlay\",\"size\":10,\"solidity\":0.2}},\"type\":\"histogram\"}],\"scattergl\":[{\"type\":\"scattergl\",\"marker\":{\"colorbar\":{\"outlinewidth\":0,\"ticks\":\"\"}}}],\"scatter3d\":[{\"type\":\"scatter3d\",\"line\":{\"colorbar\":{\"outlinewidth\":0,\"ticks\":\"\"}},\"marker\":{\"colorbar\":{\"outlinewidth\":0,\"ticks\":\"\"}}}],\"scattermapbox\":[{\"type\":\"scattermapbox\",\"marker\":{\"colorbar\":{\"outlinewidth\":0,\"ticks\":\"\"}}}],\"scatterternary\":[{\"type\":\"scatterternary\",\"marker\":{\"colorbar\":{\"outlinewidth\":0,\"ticks\":\"\"}}}],\"scattercarpet\":[{\"type\":\"scattercarpet\",\"marker\":{\"colorbar\":{\"outlinewidth\":0,\"ticks\":\"\"}}}],\"carpet\":[{\"aaxis\":{\"endlinecolor\":\"#2a3f5f\",\"gridcolor\":\"white\",\"linecolor\":\"white\",\"minorgridcolor\":\"white\",\"startlinecolor\":\"#2a3f5f\"},\"baxis\":{\"endlinecolor\":\"#2a3f5f\",\"gridcolor\":\"white\",\"linecolor\":\"white\",\"minorgridcolor\":\"white\",\"startlinecolor\":\"#2a3f5f\"},\"type\":\"carpet\"}],\"table\":[{\"cells\":{\"fill\":{\"color\":\"#EBF0F8\"},\"line\":{\"color\":\"white\"}},\"header\":{\"fill\":{\"color\":\"#C8D4E3\"},\"line\":{\"color\":\"white\"}},\"type\":\"table\"}],\"barpolar\":[{\"marker\":{\"line\":{\"color\":\"#E5ECF6\",\"width\":0.5},\"pattern\":{\"fillmode\":\"overlay\",\"size\":10,\"solidity\":0.2}},\"type\":\"barpolar\"}],\"pie\":[{\"automargin\":true,\"type\":\"pie\"}]},\"layout\":{\"autotypenumbers\":\"strict\",\"colorway\":[\"#636efa\",\"#EF553B\",\"#00cc96\",\"#ab63fa\",\"#FFA15A\",\"#19d3f3\",\"#FF6692\",\"#B6E880\",\"#FF97FF\",\"#FECB52\"],\"font\":{\"color\":\"#2a3f5f\"},\"hovermode\":\"closest\",\"hoverlabel\":{\"align\":\"left\"},\"paper_bgcolor\":\"white\",\"plot_bgcolor\":\"#E5ECF6\",\"polar\":{\"bgcolor\":\"#E5ECF6\",\"angularaxis\":{\"gridcolor\":\"white\",\"linecolor\":\"white\",\"ticks\":\"\"},\"radialaxis\":{\"gridcolor\":\"white\",\"linecolor\":\"white\",\"ticks\":\"\"}},\"ternary\":{\"bgcolor\":\"#E5ECF6\",\"aaxis\":{\"gridcolor\":\"white\",\"linecolor\":\"white\",\"ticks\":\"\"},\"baxis\":{\"gridcolor\":\"white\",\"linecolor\":\"white\",\"ticks\":\"\"},\"caxis\":{\"gridcolor\":\"white\",\"linecolor\":\"white\",\"ticks\":\"\"}},\"coloraxis\":{\"colorbar\":{\"outlinewidth\":0,\"ticks\":\"\"}},\"colorscale\":{\"sequential\":[[0.0,\"#0d0887\"],[0.1111111111111111,\"#46039f\"],[0.2222222222222222,\"#7201a8\"],[0.3333333333333333,\"#9c179e\"],[0.4444444444444444,\"#bd3786\"],[0.5555555555555556,\"#d8576b\"],[0.6666666666666666,\"#ed7953\"],[0.7777777777777778,\"#fb9f3a\"],[0.8888888888888888,\"#fdca26\"],[1.0,\"#f0f921\"]],\"sequentialminus\":[[0.0,\"#0d0887\"],[0.1111111111111111,\"#46039f\"],[0.2222222222222222,\"#7201a8\"],[0.3333333333333333,\"#9c179e\"],[0.4444444444444444,\"#bd3786\"],[0.5555555555555556,\"#d8576b\"],[0.6666666666666666,\"#ed7953\"],[0.7777777777777778,\"#fb9f3a\"],[0.8888888888888888,\"#fdca26\"],[1.0,\"#f0f921\"]],\"diverging\":[[0,\"#8e0152\"],[0.1,\"#c51b7d\"],[0.2,\"#de77ae\"],[0.3,\"#f1b6da\"],[0.4,\"#fde0ef\"],[0.5,\"#f7f7f7\"],[0.6,\"#e6f5d0\"],[0.7,\"#b8e186\"],[0.8,\"#7fbc41\"],[0.9,\"#4d9221\"],[1,\"#276419\"]]},\"xaxis\":{\"gridcolor\":\"white\",\"linecolor\":\"white\",\"ticks\":\"\",\"title\":{\"standoff\":15},\"zerolinecolor\":\"white\",\"automargin\":true,\"zerolinewidth\":2},\"yaxis\":{\"gridcolor\":\"white\",\"linecolor\":\"white\",\"ticks\":\"\",\"title\":{\"standoff\":15},\"zerolinecolor\":\"white\",\"automargin\":true,\"zerolinewidth\":2},\"scene\":{\"xaxis\":{\"backgroundcolor\":\"#E5ECF6\",\"gridcolor\":\"white\",\"linecolor\":\"white\",\"showbackground\":true,\"ticks\":\"\",\"zerolinecolor\":\"white\",\"gridwidth\":2},\"yaxis\":{\"backgroundcolor\":\"#E5ECF6\",\"gridcolor\":\"white\",\"linecolor\":\"white\",\"showbackground\":true,\"ticks\":\"\",\"zerolinecolor\":\"white\",\"gridwidth\":2},\"zaxis\":{\"backgroundcolor\":\"#E5ECF6\",\"gridcolor\":\"white\",\"linecolor\":\"white\",\"showbackground\":true,\"ticks\":\"\",\"zerolinecolor\":\"white\",\"gridwidth\":2}},\"shapedefaults\":{\"line\":{\"color\":\"#2a3f5f\"}},\"annotationdefaults\":{\"arrowcolor\":\"#2a3f5f\",\"arrowhead\":0,\"arrowwidth\":1},\"geo\":{\"bgcolor\":\"white\",\"landcolor\":\"#E5ECF6\",\"subunitcolor\":\"white\",\"showland\":true,\"showlakes\":true,\"lakecolor\":\"white\"},\"title\":{\"x\":0.05},\"mapbox\":{\"style\":\"light\"}}}},                        {\"responsive\": true}                    ).then(function(){\n",
       "                            \n",
       "var gd = document.getElementById('288909dd-8de3-40fa-b214-d8433e42ff62');\n",
       "var x = new MutationObserver(function (mutations, observer) {{\n",
       "        var display = window.getComputedStyle(gd).display;\n",
       "        if (!display || display === 'none') {{\n",
       "            console.log([gd, 'removed!']);\n",
       "            Plotly.purge(gd);\n",
       "            observer.disconnect();\n",
       "        }}\n",
       "}});\n",
       "\n",
       "// Listen for the removal of the full notebook cells\n",
       "var notebookContainer = gd.closest('#notebook-container');\n",
       "if (notebookContainer) {{\n",
       "    x.observe(notebookContainer, {childList: true});\n",
       "}}\n",
       "\n",
       "// Listen for the clearing of the current output cell\n",
       "var outputEl = gd.closest('.output');\n",
       "if (outputEl) {{\n",
       "    x.observe(outputEl, {childList: true});\n",
       "}}\n",
       "\n",
       "                        })                };                });            </script>        </div>"
      ]
     },
     "metadata": {},
     "output_type": "display_data"
    }
   ],
   "source": [
    "import plotly.graph_objects as go\n",
    "xs=[i for i in range(12)]\n",
    "def debug_plot(xx,yy):\n",
    "    fig=go.Figure()\n",
    "    fig.add_trace(go.Scatter(x=xx,y=yy, mode=\"lines+markers\"))\n",
    "    fig.show()\n",
    "debug_plot(xx=xs,yy=res_O)"
   ]
  }
 ],
 "metadata": {
  "kernelspec": {
   "display_name": "base",
   "language": "python",
   "name": "python3"
  },
  "language_info": {
   "codemirror_mode": {
    "name": "ipython",
    "version": 3
   },
   "file_extension": ".py",
   "mimetype": "text/x-python",
   "name": "python",
   "nbconvert_exporter": "python",
   "pygments_lexer": "ipython3",
   "version": "3.12.3"
  }
 },
 "nbformat": 4,
 "nbformat_minor": 2
}
