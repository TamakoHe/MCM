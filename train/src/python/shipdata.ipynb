{
 "cells": [
  {
   "cell_type": "code",
   "execution_count": 67,
   "metadata": {},
   "outputs": [],
   "source": [
    "import numpy as np\n",
    "import pandas as pd\n",
    "import torch \n",
    "import requests\n",
    "import time "
   ]
  },
  {
   "cell_type": "code",
   "execution_count": 68,
   "metadata": {},
   "outputs": [],
   "source": [
    "csv_data=pd.read_csv(\"../data/NTAD_Ferry_Routes_-1999537490590353801.csv\")"
   ]
  },
  {
   "cell_type": "code",
   "execution_count": 69,
   "metadata": {},
   "outputs": [],
   "source": [
    "ave_pax=csv_data[\"avg_daily_brd_pax\"]\n",
    "ave_veh=csv_data[\"avg_daily_brd_veh\"]\n",
    "starts=csv_data[\"seg_terminal1_id\"]\n",
    "ends=csv_data[\"seg_terminal2_id\"]\n",
    "start_times=csv_data[\"segment_season_start\"]\n",
    "end_times=csv_data[\"segment_season_end\"]"
   ]
  },
  {
   "cell_type": "code",
   "execution_count": 70,
   "metadata": {},
   "outputs": [
    {
     "name": "stdout",
     "output_type": "stream",
     "text": [
      "Succ:9099064\n",
      "Succ:9099090\n",
      "Succ:9099044\n",
      "Succ:9099018\n",
      "Succ:9099004\n",
      "Succ:9087096\n",
      "Succ:9075080\n",
      "Succ:9087088\n",
      "Succ:9087069\n",
      "Succ:9087068\n",
      "Succ:9087072\n",
      "Succ:9087077\n",
      "Succ:9087057\n",
      "Succ:9087044\n",
      "Succ:9087031\n",
      "Succ:9087023\n",
      "Succ:9075065\n",
      "Succ:9075065\n",
      "Succ:9075035\n",
      "Succ:9075014\n",
      "Succ:9063038\n",
      "Succ:9063028\n",
      "Succ:9063053\n",
      "Succ:9063063\n",
      "Succ:9063079\n",
      "Succ:9063085\n"
     ]
    }
   ],
   "source": [
    "superior_ids=[562,567, 308, 757, 914, 913, 909, 912, 882, 910,300, 911,283,289, 287, 296, ]\n",
    "michigan_ids=[303,281,274,291,298, 288, 574, 564, 752, 570, 565, 568, 292, 694, 945, 908, 676, 944, 675,674, 804, 908,693,568]\n",
    "huron_ids=[299, 282, 286, 284, 297]\n",
    "erie_ids=[966,967,10,427,429,431,424,430,432]\n",
    "superior_st_ids=[9099064, 9099090,9099044,9099018,9099004]\n",
    "michigan_st_ids=[9087096, 9075080,9087088,9087069,9087068,9087072,9087077,9087057,9087044,9087031,9087023]\n",
    "huron_st_ids=[9075065, 9075065, 9075035, 9075014]\n",
    "erie_st_ids=[9063038, 9063028, 9063053, 9063063, 9063079, 9063085]\n",
    "par_tmp= {\n",
    "    \"product\": \"daily_mean\",         # 确保站点支持该产品\n",
    "    \"application\": \"UniversityOfGlasgow\",\n",
    "    \"begin_date\": \"20230101\",       # 时间范围不超过一年\n",
    "    \"end_date\": \"20231231\",\n",
    "    \"station\": \"9087044\",           # 确保站点 ID 有效\n",
    "    \"datum\": \"IGLD\",\n",
    "    \"units\": \"metric\",\n",
    "    \"time_zone\": \"gmt\",\n",
    "    \"format\": \"json\",\n",
    "    \"time_zone\":\"LST\"\n",
    "}\n",
    "url = \"https://api.tidesandcurrents.noaa.gov/api/prod/datagetter\"\n",
    "superior_level=[]\n",
    "michigan_level=[]\n",
    "huron_level=[]\n",
    "erie_level=[]\n",
    "for id in superior_st_ids:\n",
    "    par_tmp[\"station\"]=str(id) \n",
    "    response = requests.get(url, params=par_tmp)\n",
    "    time.sleep(1)\n",
    "    if response.status_code == 200:\n",
    "        print(f\"Succ:{id}\")\n",
    "        superior_level.append(response.json())\n",
    "    else:\n",
    "        print(f\"请求失败，状态码：{response.status_code}\")\n",
    "        print(f\"响应内容：{response.text}\")\n",
    "for id in michigan_st_ids:\n",
    "    par_tmp[\"station\"]=str(id) \n",
    "    response = requests.get(url, params=par_tmp)\n",
    "    time.sleep(1)\n",
    "    if response.status_code == 200:\n",
    "        print(f\"Succ:{id}\")\n",
    "        michigan_level.append(response.json())\n",
    "    else:\n",
    "        print(f\"请求失败，状态码：{response.status_code}\")\n",
    "        print(f\"响应内容：{response.text}\") \n",
    "for id in huron_st_ids:\n",
    "    par_tmp[\"station\"]=str(id) \n",
    "    response = requests.get(url, params=par_tmp)\n",
    "    time.sleep(1)\n",
    "    if response.status_code == 200:\n",
    "        print(f\"Succ:{id}\")\n",
    "        huron_level.append(response.json())\n",
    "    else:\n",
    "        print(f\"请求失败，状态码：{response.status_code}\")\n",
    "        print(f\"响应内容：{response.text}\")  \n",
    "for id in erie_st_ids:\n",
    "    par_tmp[\"station\"]=str(id) \n",
    "    response = requests.get(url, params=par_tmp)\n",
    "    time.sleep(1)\n",
    "    if response.status_code == 200:\n",
    "        print(f\"Succ:{id}\")\n",
    "        erie_level.append(response.json())\n",
    "    else:\n",
    "        print(f\"请求失败，状态码：{response.status_code}\")\n",
    "        print(f\"响应内容：{response.text}\")"
   ]
  },
  {
   "cell_type": "code",
   "execution_count": 71,
   "metadata": {},
   "outputs": [],
   "source": [
    "avg_msl_superior={}\n",
    "avg_msl_michigan={}\n",
    "avg_msl_huron={}\n",
    "avg_msl_erie={}\n",
    "for data_r in superior_level:\n",
    "    for data in data_r[\"data\"]:\n",
    "        if not data[\"t\"] in avg_msl_superior.keys():\n",
    "            avg_msl_superior[data[\"t\"]]=[]\n",
    "        avg_msl_superior[data[\"t\"]].append(float(data[\"v\"]))\n",
    "for data_r in michigan_level:\n",
    "    if not \"data\" in data_r.keys():\n",
    "        continue\n",
    "    for data in data_r[\"data\"]:\n",
    "        if not data[\"t\"] in avg_msl_michigan.keys():\n",
    "            avg_msl_michigan[data[\"t\"]]=[]\n",
    "        avg_msl_michigan[data[\"t\"]].append(float(data[\"v\"]))\n",
    "for data_r in huron_level:\n",
    "    if not \"data\" in data_r.keys():\n",
    "        continue\n",
    "    for data in data_r[\"data\"]:\n",
    "        if not data[\"t\"] in avg_msl_huron.keys():\n",
    "            avg_msl_huron[data[\"t\"]]=[]\n",
    "        avg_msl_huron[data[\"t\"]].append(float(data[\"v\"]))\n",
    "for data_r in erie_level:\n",
    "    if not \"data\" in data_r.keys():\n",
    "        continue\n",
    "    for data in data_r[\"data\"]:\n",
    "        if not data[\"t\"] in avg_msl_erie.keys():\n",
    "            avg_msl_erie[data[\"t\"]]=[]\n",
    "        avg_msl_erie[data[\"t\"]].append(float(data[\"v\"]))"
   ]
  },
  {
   "cell_type": "code",
   "execution_count": 72,
   "metadata": {},
   "outputs": [],
   "source": [
    "for key in avg_msl_superior.keys():\n",
    "    avg_msl_superior[key]=np.mean(avg_msl_superior[key])\n",
    "for key in avg_msl_michigan.keys():\n",
    "    avg_msl_michigan[key]=np.mean(avg_msl_michigan[key])\n",
    "for key in avg_msl_erie.keys():\n",
    "    avg_msl_erie[key]=np.mean(avg_msl_erie[key])\n",
    "for key in avg_msl_huron.keys():\n",
    "    avg_msl_huron[key]=np.mean(avg_msl_huron[key])"
   ]
  },
  {
   "cell_type": "code",
   "execution_count": 73,
   "metadata": {},
   "outputs": [
    {
     "name": "stdout",
     "output_type": "stream",
     "text": [
      "183.66619999999998,183.58780000000002\n",
      "183.66619999999998,183.58780000000002\n",
      "183.66619999999998,183.58780000000002\n",
      "183.66619999999998,183.58780000000002\n",
      "183.66619999999998,183.58780000000002\n",
      "183.66619999999998,183.58780000000002\n",
      "183.66619999999998,183.58780000000002\n",
      "183.66619999999998,183.58780000000002\n",
      "183.66619999999998,183.58780000000002\n",
      "183.66619999999998,183.58780000000002\n",
      "183.66619999999998,183.58780000000002\n",
      "183.66619999999998,183.58780000000002\n",
      "183.66619999999998,183.58780000000002\n",
      "183.66619999999998,183.58780000000002\n",
      "183.66619999999998,183.58780000000002\n",
      "183.66619999999998,183.58780000000002\n",
      "183.66619999999998,183.58780000000002\n",
      "183.66619999999998,183.58780000000002\n",
      "183.66619999999998,183.58780000000002\n",
      "183.66619999999998,183.58780000000002\n",
      "183.66619999999998,183.58780000000002\n",
      "183.57959999999997,183.58780000000002\n",
      "183.66619999999998,183.58780000000002\n",
      "183.66619999999998,183.58780000000002\n",
      "183.66619999999998,183.58780000000002\n",
      "183.66619999999998,183.58780000000002\n",
      "183.66619999999998,183.58780000000002\n",
      "183.66619999999998,183.58780000000002\n",
      "183.66619999999998,183.58780000000002\n",
      "183.5786,183.397\n",
      "183.66619999999998,183.6456\n",
      "183.57819999999998,183.4088\n",
      "183.5874,183.5694\n",
      "183.57819999999998,183.4088\n",
      "183.5872,183.563\n",
      "183.7038,183.57459999999998\n",
      "183.7138,183.668\n",
      "183.57819999999998,183.4088\n",
      "183.7268,183.6132\n",
      "183.7268,183.6132\n"
     ]
    }
   ],
   "source": [
    "ship_data=[]\n",
    "def construct(x:str):\n",
    "    mm,dd=x.split(\"/\")\n",
    "    return f\"2023-{mm}-{dd} 00:00\"\n",
    "demo_sup=[]\n",
    "for indx, (start,end) in enumerate(zip(starts, ends)):\n",
    "    try:\n",
    "        if start in superior_ids and end in superior_ids:\n",
    "            # print(f\"st:{start_times[indx]},en:{end_times[indx]}\")\n",
    "            if start_times[indx]==\"\" or end_times[indx]==\"\" or end_times[indx]==float(\"nan\") or start_times[indx]==float(\"nan\"):\n",
    "                continue\n",
    "            \n",
    "            sts=construct(start_times[indx])\n",
    "            ens=construct(end_times[indx])\n",
    "            print(f\"{avg_msl_superior[sts]},{avg_msl_superior[ens]}\")\n",
    "            demo_sup.append((ave_pax[indx]+20*ave_veh[indx],(avg_msl_superior[sts]+avg_msl_superior[ens])/2))\n",
    "            # 2023-02-02 00:00\n",
    "        elif start in michigan_ids and end in michigan_ids:\n",
    "            if start_times[indx]==\"\" or end_times[indx]==\"\":\n",
    "                continue\n",
    "        elif start in huron_ids and end in huron_ids:\n",
    "            if start_times[indx]==\"\" or end_times[indx]==\"\":\n",
    "                continue\n",
    "        elif start in erie_ids and end in erie_ids:\n",
    "            if start_times[indx]==\"\" or end_times[indx]==\"\":\n",
    "                continue\n",
    "    except:\n",
    "        pass"
   ]
  },
  {
   "cell_type": "code",
   "execution_count": 74,
   "metadata": {},
   "outputs": [
    {
     "data": {
      "application/vnd.plotly.v1+json": {
       "config": {
        "plotlyServerURL": "https://plot.ly"
       },
       "data": [
        {
         "mode": "markers",
         "type": "scatter",
         "x": [
          183.627,
          183.627,
          183.627,
          183.627,
          183.627,
          183.627,
          183.627,
          183.627,
          183.627,
          183.627,
          183.627,
          183.627,
          183.627,
          183.627,
          183.627,
          183.627,
          183.627,
          183.627,
          183.627,
          183.627,
          183.627,
          183.5837,
          183.627,
          183.627,
          183.627,
          183.627,
          183.627,
          183.627,
          183.627,
          183.4878,
          183.65589999999997,
          183.49349999999998,
          183.5784,
          183.49349999999998,
          183.5751,
          183.6392,
          183.6909,
          183.49349999999998,
          183.67000000000002,
          183.67000000000002
         ],
         "y": [
          44,
          110,
          110,
          42,
          14,
          6,
          42,
          42,
          42,
          6,
          44,
          42,
          6,
          44,
          34,
          38,
          38,
          44,
          42,
          34,
          38,
          38,
          44,
          44,
          14,
          38,
          42,
          42,
          42,
          null,
          75,
          null,
          58,
          null,
          null,
          null,
          null,
          null,
          null,
          null
         ]
        }
       ],
       "layout": {
        "template": {
         "data": {
          "bar": [
           {
            "error_x": {
             "color": "#2a3f5f"
            },
            "error_y": {
             "color": "#2a3f5f"
            },
            "marker": {
             "line": {
              "color": "#E5ECF6",
              "width": 0.5
             },
             "pattern": {
              "fillmode": "overlay",
              "size": 10,
              "solidity": 0.2
             }
            },
            "type": "bar"
           }
          ],
          "barpolar": [
           {
            "marker": {
             "line": {
              "color": "#E5ECF6",
              "width": 0.5
             },
             "pattern": {
              "fillmode": "overlay",
              "size": 10,
              "solidity": 0.2
             }
            },
            "type": "barpolar"
           }
          ],
          "carpet": [
           {
            "aaxis": {
             "endlinecolor": "#2a3f5f",
             "gridcolor": "white",
             "linecolor": "white",
             "minorgridcolor": "white",
             "startlinecolor": "#2a3f5f"
            },
            "baxis": {
             "endlinecolor": "#2a3f5f",
             "gridcolor": "white",
             "linecolor": "white",
             "minorgridcolor": "white",
             "startlinecolor": "#2a3f5f"
            },
            "type": "carpet"
           }
          ],
          "choropleth": [
           {
            "colorbar": {
             "outlinewidth": 0,
             "ticks": ""
            },
            "type": "choropleth"
           }
          ],
          "contour": [
           {
            "colorbar": {
             "outlinewidth": 0,
             "ticks": ""
            },
            "colorscale": [
             [
              0,
              "#0d0887"
             ],
             [
              0.1111111111111111,
              "#46039f"
             ],
             [
              0.2222222222222222,
              "#7201a8"
             ],
             [
              0.3333333333333333,
              "#9c179e"
             ],
             [
              0.4444444444444444,
              "#bd3786"
             ],
             [
              0.5555555555555556,
              "#d8576b"
             ],
             [
              0.6666666666666666,
              "#ed7953"
             ],
             [
              0.7777777777777778,
              "#fb9f3a"
             ],
             [
              0.8888888888888888,
              "#fdca26"
             ],
             [
              1,
              "#f0f921"
             ]
            ],
            "type": "contour"
           }
          ],
          "contourcarpet": [
           {
            "colorbar": {
             "outlinewidth": 0,
             "ticks": ""
            },
            "type": "contourcarpet"
           }
          ],
          "heatmap": [
           {
            "colorbar": {
             "outlinewidth": 0,
             "ticks": ""
            },
            "colorscale": [
             [
              0,
              "#0d0887"
             ],
             [
              0.1111111111111111,
              "#46039f"
             ],
             [
              0.2222222222222222,
              "#7201a8"
             ],
             [
              0.3333333333333333,
              "#9c179e"
             ],
             [
              0.4444444444444444,
              "#bd3786"
             ],
             [
              0.5555555555555556,
              "#d8576b"
             ],
             [
              0.6666666666666666,
              "#ed7953"
             ],
             [
              0.7777777777777778,
              "#fb9f3a"
             ],
             [
              0.8888888888888888,
              "#fdca26"
             ],
             [
              1,
              "#f0f921"
             ]
            ],
            "type": "heatmap"
           }
          ],
          "heatmapgl": [
           {
            "colorbar": {
             "outlinewidth": 0,
             "ticks": ""
            },
            "colorscale": [
             [
              0,
              "#0d0887"
             ],
             [
              0.1111111111111111,
              "#46039f"
             ],
             [
              0.2222222222222222,
              "#7201a8"
             ],
             [
              0.3333333333333333,
              "#9c179e"
             ],
             [
              0.4444444444444444,
              "#bd3786"
             ],
             [
              0.5555555555555556,
              "#d8576b"
             ],
             [
              0.6666666666666666,
              "#ed7953"
             ],
             [
              0.7777777777777778,
              "#fb9f3a"
             ],
             [
              0.8888888888888888,
              "#fdca26"
             ],
             [
              1,
              "#f0f921"
             ]
            ],
            "type": "heatmapgl"
           }
          ],
          "histogram": [
           {
            "marker": {
             "pattern": {
              "fillmode": "overlay",
              "size": 10,
              "solidity": 0.2
             }
            },
            "type": "histogram"
           }
          ],
          "histogram2d": [
           {
            "colorbar": {
             "outlinewidth": 0,
             "ticks": ""
            },
            "colorscale": [
             [
              0,
              "#0d0887"
             ],
             [
              0.1111111111111111,
              "#46039f"
             ],
             [
              0.2222222222222222,
              "#7201a8"
             ],
             [
              0.3333333333333333,
              "#9c179e"
             ],
             [
              0.4444444444444444,
              "#bd3786"
             ],
             [
              0.5555555555555556,
              "#d8576b"
             ],
             [
              0.6666666666666666,
              "#ed7953"
             ],
             [
              0.7777777777777778,
              "#fb9f3a"
             ],
             [
              0.8888888888888888,
              "#fdca26"
             ],
             [
              1,
              "#f0f921"
             ]
            ],
            "type": "histogram2d"
           }
          ],
          "histogram2dcontour": [
           {
            "colorbar": {
             "outlinewidth": 0,
             "ticks": ""
            },
            "colorscale": [
             [
              0,
              "#0d0887"
             ],
             [
              0.1111111111111111,
              "#46039f"
             ],
             [
              0.2222222222222222,
              "#7201a8"
             ],
             [
              0.3333333333333333,
              "#9c179e"
             ],
             [
              0.4444444444444444,
              "#bd3786"
             ],
             [
              0.5555555555555556,
              "#d8576b"
             ],
             [
              0.6666666666666666,
              "#ed7953"
             ],
             [
              0.7777777777777778,
              "#fb9f3a"
             ],
             [
              0.8888888888888888,
              "#fdca26"
             ],
             [
              1,
              "#f0f921"
             ]
            ],
            "type": "histogram2dcontour"
           }
          ],
          "mesh3d": [
           {
            "colorbar": {
             "outlinewidth": 0,
             "ticks": ""
            },
            "type": "mesh3d"
           }
          ],
          "parcoords": [
           {
            "line": {
             "colorbar": {
              "outlinewidth": 0,
              "ticks": ""
             }
            },
            "type": "parcoords"
           }
          ],
          "pie": [
           {
            "automargin": true,
            "type": "pie"
           }
          ],
          "scatter": [
           {
            "fillpattern": {
             "fillmode": "overlay",
             "size": 10,
             "solidity": 0.2
            },
            "type": "scatter"
           }
          ],
          "scatter3d": [
           {
            "line": {
             "colorbar": {
              "outlinewidth": 0,
              "ticks": ""
             }
            },
            "marker": {
             "colorbar": {
              "outlinewidth": 0,
              "ticks": ""
             }
            },
            "type": "scatter3d"
           }
          ],
          "scattercarpet": [
           {
            "marker": {
             "colorbar": {
              "outlinewidth": 0,
              "ticks": ""
             }
            },
            "type": "scattercarpet"
           }
          ],
          "scattergeo": [
           {
            "marker": {
             "colorbar": {
              "outlinewidth": 0,
              "ticks": ""
             }
            },
            "type": "scattergeo"
           }
          ],
          "scattergl": [
           {
            "marker": {
             "colorbar": {
              "outlinewidth": 0,
              "ticks": ""
             }
            },
            "type": "scattergl"
           }
          ],
          "scattermapbox": [
           {
            "marker": {
             "colorbar": {
              "outlinewidth": 0,
              "ticks": ""
             }
            },
            "type": "scattermapbox"
           }
          ],
          "scatterpolar": [
           {
            "marker": {
             "colorbar": {
              "outlinewidth": 0,
              "ticks": ""
             }
            },
            "type": "scatterpolar"
           }
          ],
          "scatterpolargl": [
           {
            "marker": {
             "colorbar": {
              "outlinewidth": 0,
              "ticks": ""
             }
            },
            "type": "scatterpolargl"
           }
          ],
          "scatterternary": [
           {
            "marker": {
             "colorbar": {
              "outlinewidth": 0,
              "ticks": ""
             }
            },
            "type": "scatterternary"
           }
          ],
          "surface": [
           {
            "colorbar": {
             "outlinewidth": 0,
             "ticks": ""
            },
            "colorscale": [
             [
              0,
              "#0d0887"
             ],
             [
              0.1111111111111111,
              "#46039f"
             ],
             [
              0.2222222222222222,
              "#7201a8"
             ],
             [
              0.3333333333333333,
              "#9c179e"
             ],
             [
              0.4444444444444444,
              "#bd3786"
             ],
             [
              0.5555555555555556,
              "#d8576b"
             ],
             [
              0.6666666666666666,
              "#ed7953"
             ],
             [
              0.7777777777777778,
              "#fb9f3a"
             ],
             [
              0.8888888888888888,
              "#fdca26"
             ],
             [
              1,
              "#f0f921"
             ]
            ],
            "type": "surface"
           }
          ],
          "table": [
           {
            "cells": {
             "fill": {
              "color": "#EBF0F8"
             },
             "line": {
              "color": "white"
             }
            },
            "header": {
             "fill": {
              "color": "#C8D4E3"
             },
             "line": {
              "color": "white"
             }
            },
            "type": "table"
           }
          ]
         },
         "layout": {
          "annotationdefaults": {
           "arrowcolor": "#2a3f5f",
           "arrowhead": 0,
           "arrowwidth": 1
          },
          "autotypenumbers": "strict",
          "coloraxis": {
           "colorbar": {
            "outlinewidth": 0,
            "ticks": ""
           }
          },
          "colorscale": {
           "diverging": [
            [
             0,
             "#8e0152"
            ],
            [
             0.1,
             "#c51b7d"
            ],
            [
             0.2,
             "#de77ae"
            ],
            [
             0.3,
             "#f1b6da"
            ],
            [
             0.4,
             "#fde0ef"
            ],
            [
             0.5,
             "#f7f7f7"
            ],
            [
             0.6,
             "#e6f5d0"
            ],
            [
             0.7,
             "#b8e186"
            ],
            [
             0.8,
             "#7fbc41"
            ],
            [
             0.9,
             "#4d9221"
            ],
            [
             1,
             "#276419"
            ]
           ],
           "sequential": [
            [
             0,
             "#0d0887"
            ],
            [
             0.1111111111111111,
             "#46039f"
            ],
            [
             0.2222222222222222,
             "#7201a8"
            ],
            [
             0.3333333333333333,
             "#9c179e"
            ],
            [
             0.4444444444444444,
             "#bd3786"
            ],
            [
             0.5555555555555556,
             "#d8576b"
            ],
            [
             0.6666666666666666,
             "#ed7953"
            ],
            [
             0.7777777777777778,
             "#fb9f3a"
            ],
            [
             0.8888888888888888,
             "#fdca26"
            ],
            [
             1,
             "#f0f921"
            ]
           ],
           "sequentialminus": [
            [
             0,
             "#0d0887"
            ],
            [
             0.1111111111111111,
             "#46039f"
            ],
            [
             0.2222222222222222,
             "#7201a8"
            ],
            [
             0.3333333333333333,
             "#9c179e"
            ],
            [
             0.4444444444444444,
             "#bd3786"
            ],
            [
             0.5555555555555556,
             "#d8576b"
            ],
            [
             0.6666666666666666,
             "#ed7953"
            ],
            [
             0.7777777777777778,
             "#fb9f3a"
            ],
            [
             0.8888888888888888,
             "#fdca26"
            ],
            [
             1,
             "#f0f921"
            ]
           ]
          },
          "colorway": [
           "#636efa",
           "#EF553B",
           "#00cc96",
           "#ab63fa",
           "#FFA15A",
           "#19d3f3",
           "#FF6692",
           "#B6E880",
           "#FF97FF",
           "#FECB52"
          ],
          "font": {
           "color": "#2a3f5f"
          },
          "geo": {
           "bgcolor": "white",
           "lakecolor": "white",
           "landcolor": "#E5ECF6",
           "showlakes": true,
           "showland": true,
           "subunitcolor": "white"
          },
          "hoverlabel": {
           "align": "left"
          },
          "hovermode": "closest",
          "mapbox": {
           "style": "light"
          },
          "paper_bgcolor": "white",
          "plot_bgcolor": "#E5ECF6",
          "polar": {
           "angularaxis": {
            "gridcolor": "white",
            "linecolor": "white",
            "ticks": ""
           },
           "bgcolor": "#E5ECF6",
           "radialaxis": {
            "gridcolor": "white",
            "linecolor": "white",
            "ticks": ""
           }
          },
          "scene": {
           "xaxis": {
            "backgroundcolor": "#E5ECF6",
            "gridcolor": "white",
            "gridwidth": 2,
            "linecolor": "white",
            "showbackground": true,
            "ticks": "",
            "zerolinecolor": "white"
           },
           "yaxis": {
            "backgroundcolor": "#E5ECF6",
            "gridcolor": "white",
            "gridwidth": 2,
            "linecolor": "white",
            "showbackground": true,
            "ticks": "",
            "zerolinecolor": "white"
           },
           "zaxis": {
            "backgroundcolor": "#E5ECF6",
            "gridcolor": "white",
            "gridwidth": 2,
            "linecolor": "white",
            "showbackground": true,
            "ticks": "",
            "zerolinecolor": "white"
           }
          },
          "shapedefaults": {
           "line": {
            "color": "#2a3f5f"
           }
          },
          "ternary": {
           "aaxis": {
            "gridcolor": "white",
            "linecolor": "white",
            "ticks": ""
           },
           "baxis": {
            "gridcolor": "white",
            "linecolor": "white",
            "ticks": ""
           },
           "bgcolor": "#E5ECF6",
           "caxis": {
            "gridcolor": "white",
            "linecolor": "white",
            "ticks": ""
           }
          },
          "title": {
           "x": 0.05
          },
          "xaxis": {
           "automargin": true,
           "gridcolor": "white",
           "linecolor": "white",
           "ticks": "",
           "title": {
            "standoff": 15
           },
           "zerolinecolor": "white",
           "zerolinewidth": 2
          },
          "yaxis": {
           "automargin": true,
           "gridcolor": "white",
           "linecolor": "white",
           "ticks": "",
           "title": {
            "standoff": 15
           },
           "zerolinecolor": "white",
           "zerolinewidth": 2
          }
         }
        }
       }
      },
      "text/html": [
       "<div>                            <div id=\"78ffa699-eedc-4fc8-84b0-4ad9dd24bbcf\" class=\"plotly-graph-div\" style=\"height:525px; width:100%;\"></div>            <script type=\"text/javascript\">                require([\"plotly\"], function(Plotly) {                    window.PLOTLYENV=window.PLOTLYENV || {};                                    if (document.getElementById(\"78ffa699-eedc-4fc8-84b0-4ad9dd24bbcf\")) {                    Plotly.newPlot(                        \"78ffa699-eedc-4fc8-84b0-4ad9dd24bbcf\",                        [{\"mode\":\"markers\",\"x\":[183.627,183.627,183.627,183.627,183.627,183.627,183.627,183.627,183.627,183.627,183.627,183.627,183.627,183.627,183.627,183.627,183.627,183.627,183.627,183.627,183.627,183.5837,183.627,183.627,183.627,183.627,183.627,183.627,183.627,183.4878,183.65589999999997,183.49349999999998,183.5784,183.49349999999998,183.5751,183.6392,183.6909,183.49349999999998,183.67000000000002,183.67000000000002],\"y\":[44.0,110.0,110.0,42.0,14.0,6.0,42.0,42.0,42.0,6.0,44.0,42.0,6.0,44.0,34.0,38.0,38.0,44.0,42.0,34.0,38.0,38.0,44.0,44.0,14.0,38.0,42.0,42.0,42.0,null,75.0,null,58.0,null,null,null,null,null,null,null],\"type\":\"scatter\"}],                        {\"template\":{\"data\":{\"histogram2dcontour\":[{\"type\":\"histogram2dcontour\",\"colorbar\":{\"outlinewidth\":0,\"ticks\":\"\"},\"colorscale\":[[0.0,\"#0d0887\"],[0.1111111111111111,\"#46039f\"],[0.2222222222222222,\"#7201a8\"],[0.3333333333333333,\"#9c179e\"],[0.4444444444444444,\"#bd3786\"],[0.5555555555555556,\"#d8576b\"],[0.6666666666666666,\"#ed7953\"],[0.7777777777777778,\"#fb9f3a\"],[0.8888888888888888,\"#fdca26\"],[1.0,\"#f0f921\"]]}],\"choropleth\":[{\"type\":\"choropleth\",\"colorbar\":{\"outlinewidth\":0,\"ticks\":\"\"}}],\"histogram2d\":[{\"type\":\"histogram2d\",\"colorbar\":{\"outlinewidth\":0,\"ticks\":\"\"},\"colorscale\":[[0.0,\"#0d0887\"],[0.1111111111111111,\"#46039f\"],[0.2222222222222222,\"#7201a8\"],[0.3333333333333333,\"#9c179e\"],[0.4444444444444444,\"#bd3786\"],[0.5555555555555556,\"#d8576b\"],[0.6666666666666666,\"#ed7953\"],[0.7777777777777778,\"#fb9f3a\"],[0.8888888888888888,\"#fdca26\"],[1.0,\"#f0f921\"]]}],\"heatmap\":[{\"type\":\"heatmap\",\"colorbar\":{\"outlinewidth\":0,\"ticks\":\"\"},\"colorscale\":[[0.0,\"#0d0887\"],[0.1111111111111111,\"#46039f\"],[0.2222222222222222,\"#7201a8\"],[0.3333333333333333,\"#9c179e\"],[0.4444444444444444,\"#bd3786\"],[0.5555555555555556,\"#d8576b\"],[0.6666666666666666,\"#ed7953\"],[0.7777777777777778,\"#fb9f3a\"],[0.8888888888888888,\"#fdca26\"],[1.0,\"#f0f921\"]]}],\"heatmapgl\":[{\"type\":\"heatmapgl\",\"colorbar\":{\"outlinewidth\":0,\"ticks\":\"\"},\"colorscale\":[[0.0,\"#0d0887\"],[0.1111111111111111,\"#46039f\"],[0.2222222222222222,\"#7201a8\"],[0.3333333333333333,\"#9c179e\"],[0.4444444444444444,\"#bd3786\"],[0.5555555555555556,\"#d8576b\"],[0.6666666666666666,\"#ed7953\"],[0.7777777777777778,\"#fb9f3a\"],[0.8888888888888888,\"#fdca26\"],[1.0,\"#f0f921\"]]}],\"contourcarpet\":[{\"type\":\"contourcarpet\",\"colorbar\":{\"outlinewidth\":0,\"ticks\":\"\"}}],\"contour\":[{\"type\":\"contour\",\"colorbar\":{\"outlinewidth\":0,\"ticks\":\"\"},\"colorscale\":[[0.0,\"#0d0887\"],[0.1111111111111111,\"#46039f\"],[0.2222222222222222,\"#7201a8\"],[0.3333333333333333,\"#9c179e\"],[0.4444444444444444,\"#bd3786\"],[0.5555555555555556,\"#d8576b\"],[0.6666666666666666,\"#ed7953\"],[0.7777777777777778,\"#fb9f3a\"],[0.8888888888888888,\"#fdca26\"],[1.0,\"#f0f921\"]]}],\"surface\":[{\"type\":\"surface\",\"colorbar\":{\"outlinewidth\":0,\"ticks\":\"\"},\"colorscale\":[[0.0,\"#0d0887\"],[0.1111111111111111,\"#46039f\"],[0.2222222222222222,\"#7201a8\"],[0.3333333333333333,\"#9c179e\"],[0.4444444444444444,\"#bd3786\"],[0.5555555555555556,\"#d8576b\"],[0.6666666666666666,\"#ed7953\"],[0.7777777777777778,\"#fb9f3a\"],[0.8888888888888888,\"#fdca26\"],[1.0,\"#f0f921\"]]}],\"mesh3d\":[{\"type\":\"mesh3d\",\"colorbar\":{\"outlinewidth\":0,\"ticks\":\"\"}}],\"scatter\":[{\"fillpattern\":{\"fillmode\":\"overlay\",\"size\":10,\"solidity\":0.2},\"type\":\"scatter\"}],\"parcoords\":[{\"type\":\"parcoords\",\"line\":{\"colorbar\":{\"outlinewidth\":0,\"ticks\":\"\"}}}],\"scatterpolargl\":[{\"type\":\"scatterpolargl\",\"marker\":{\"colorbar\":{\"outlinewidth\":0,\"ticks\":\"\"}}}],\"bar\":[{\"error_x\":{\"color\":\"#2a3f5f\"},\"error_y\":{\"color\":\"#2a3f5f\"},\"marker\":{\"line\":{\"color\":\"#E5ECF6\",\"width\":0.5},\"pattern\":{\"fillmode\":\"overlay\",\"size\":10,\"solidity\":0.2}},\"type\":\"bar\"}],\"scattergeo\":[{\"type\":\"scattergeo\",\"marker\":{\"colorbar\":{\"outlinewidth\":0,\"ticks\":\"\"}}}],\"scatterpolar\":[{\"type\":\"scatterpolar\",\"marker\":{\"colorbar\":{\"outlinewidth\":0,\"ticks\":\"\"}}}],\"histogram\":[{\"marker\":{\"pattern\":{\"fillmode\":\"overlay\",\"size\":10,\"solidity\":0.2}},\"type\":\"histogram\"}],\"scattergl\":[{\"type\":\"scattergl\",\"marker\":{\"colorbar\":{\"outlinewidth\":0,\"ticks\":\"\"}}}],\"scatter3d\":[{\"type\":\"scatter3d\",\"line\":{\"colorbar\":{\"outlinewidth\":0,\"ticks\":\"\"}},\"marker\":{\"colorbar\":{\"outlinewidth\":0,\"ticks\":\"\"}}}],\"scattermapbox\":[{\"type\":\"scattermapbox\",\"marker\":{\"colorbar\":{\"outlinewidth\":0,\"ticks\":\"\"}}}],\"scatterternary\":[{\"type\":\"scatterternary\",\"marker\":{\"colorbar\":{\"outlinewidth\":0,\"ticks\":\"\"}}}],\"scattercarpet\":[{\"type\":\"scattercarpet\",\"marker\":{\"colorbar\":{\"outlinewidth\":0,\"ticks\":\"\"}}}],\"carpet\":[{\"aaxis\":{\"endlinecolor\":\"#2a3f5f\",\"gridcolor\":\"white\",\"linecolor\":\"white\",\"minorgridcolor\":\"white\",\"startlinecolor\":\"#2a3f5f\"},\"baxis\":{\"endlinecolor\":\"#2a3f5f\",\"gridcolor\":\"white\",\"linecolor\":\"white\",\"minorgridcolor\":\"white\",\"startlinecolor\":\"#2a3f5f\"},\"type\":\"carpet\"}],\"table\":[{\"cells\":{\"fill\":{\"color\":\"#EBF0F8\"},\"line\":{\"color\":\"white\"}},\"header\":{\"fill\":{\"color\":\"#C8D4E3\"},\"line\":{\"color\":\"white\"}},\"type\":\"table\"}],\"barpolar\":[{\"marker\":{\"line\":{\"color\":\"#E5ECF6\",\"width\":0.5},\"pattern\":{\"fillmode\":\"overlay\",\"size\":10,\"solidity\":0.2}},\"type\":\"barpolar\"}],\"pie\":[{\"automargin\":true,\"type\":\"pie\"}]},\"layout\":{\"autotypenumbers\":\"strict\",\"colorway\":[\"#636efa\",\"#EF553B\",\"#00cc96\",\"#ab63fa\",\"#FFA15A\",\"#19d3f3\",\"#FF6692\",\"#B6E880\",\"#FF97FF\",\"#FECB52\"],\"font\":{\"color\":\"#2a3f5f\"},\"hovermode\":\"closest\",\"hoverlabel\":{\"align\":\"left\"},\"paper_bgcolor\":\"white\",\"plot_bgcolor\":\"#E5ECF6\",\"polar\":{\"bgcolor\":\"#E5ECF6\",\"angularaxis\":{\"gridcolor\":\"white\",\"linecolor\":\"white\",\"ticks\":\"\"},\"radialaxis\":{\"gridcolor\":\"white\",\"linecolor\":\"white\",\"ticks\":\"\"}},\"ternary\":{\"bgcolor\":\"#E5ECF6\",\"aaxis\":{\"gridcolor\":\"white\",\"linecolor\":\"white\",\"ticks\":\"\"},\"baxis\":{\"gridcolor\":\"white\",\"linecolor\":\"white\",\"ticks\":\"\"},\"caxis\":{\"gridcolor\":\"white\",\"linecolor\":\"white\",\"ticks\":\"\"}},\"coloraxis\":{\"colorbar\":{\"outlinewidth\":0,\"ticks\":\"\"}},\"colorscale\":{\"sequential\":[[0.0,\"#0d0887\"],[0.1111111111111111,\"#46039f\"],[0.2222222222222222,\"#7201a8\"],[0.3333333333333333,\"#9c179e\"],[0.4444444444444444,\"#bd3786\"],[0.5555555555555556,\"#d8576b\"],[0.6666666666666666,\"#ed7953\"],[0.7777777777777778,\"#fb9f3a\"],[0.8888888888888888,\"#fdca26\"],[1.0,\"#f0f921\"]],\"sequentialminus\":[[0.0,\"#0d0887\"],[0.1111111111111111,\"#46039f\"],[0.2222222222222222,\"#7201a8\"],[0.3333333333333333,\"#9c179e\"],[0.4444444444444444,\"#bd3786\"],[0.5555555555555556,\"#d8576b\"],[0.6666666666666666,\"#ed7953\"],[0.7777777777777778,\"#fb9f3a\"],[0.8888888888888888,\"#fdca26\"],[1.0,\"#f0f921\"]],\"diverging\":[[0,\"#8e0152\"],[0.1,\"#c51b7d\"],[0.2,\"#de77ae\"],[0.3,\"#f1b6da\"],[0.4,\"#fde0ef\"],[0.5,\"#f7f7f7\"],[0.6,\"#e6f5d0\"],[0.7,\"#b8e186\"],[0.8,\"#7fbc41\"],[0.9,\"#4d9221\"],[1,\"#276419\"]]},\"xaxis\":{\"gridcolor\":\"white\",\"linecolor\":\"white\",\"ticks\":\"\",\"title\":{\"standoff\":15},\"zerolinecolor\":\"white\",\"automargin\":true,\"zerolinewidth\":2},\"yaxis\":{\"gridcolor\":\"white\",\"linecolor\":\"white\",\"ticks\":\"\",\"title\":{\"standoff\":15},\"zerolinecolor\":\"white\",\"automargin\":true,\"zerolinewidth\":2},\"scene\":{\"xaxis\":{\"backgroundcolor\":\"#E5ECF6\",\"gridcolor\":\"white\",\"linecolor\":\"white\",\"showbackground\":true,\"ticks\":\"\",\"zerolinecolor\":\"white\",\"gridwidth\":2},\"yaxis\":{\"backgroundcolor\":\"#E5ECF6\",\"gridcolor\":\"white\",\"linecolor\":\"white\",\"showbackground\":true,\"ticks\":\"\",\"zerolinecolor\":\"white\",\"gridwidth\":2},\"zaxis\":{\"backgroundcolor\":\"#E5ECF6\",\"gridcolor\":\"white\",\"linecolor\":\"white\",\"showbackground\":true,\"ticks\":\"\",\"zerolinecolor\":\"white\",\"gridwidth\":2}},\"shapedefaults\":{\"line\":{\"color\":\"#2a3f5f\"}},\"annotationdefaults\":{\"arrowcolor\":\"#2a3f5f\",\"arrowhead\":0,\"arrowwidth\":1},\"geo\":{\"bgcolor\":\"white\",\"landcolor\":\"#E5ECF6\",\"subunitcolor\":\"white\",\"showland\":true,\"showlakes\":true,\"lakecolor\":\"white\"},\"title\":{\"x\":0.05},\"mapbox\":{\"style\":\"light\"}}}},                        {\"responsive\": true}                    ).then(function(){\n",
       "                            \n",
       "var gd = document.getElementById('78ffa699-eedc-4fc8-84b0-4ad9dd24bbcf');\n",
       "var x = new MutationObserver(function (mutations, observer) {{\n",
       "        var display = window.getComputedStyle(gd).display;\n",
       "        if (!display || display === 'none') {{\n",
       "            console.log([gd, 'removed!']);\n",
       "            Plotly.purge(gd);\n",
       "            observer.disconnect();\n",
       "        }}\n",
       "}});\n",
       "\n",
       "// Listen for the removal of the full notebook cells\n",
       "var notebookContainer = gd.closest('#notebook-container');\n",
       "if (notebookContainer) {{\n",
       "    x.observe(notebookContainer, {childList: true});\n",
       "}}\n",
       "\n",
       "// Listen for the clearing of the current output cell\n",
       "var outputEl = gd.closest('.output');\n",
       "if (outputEl) {{\n",
       "    x.observe(outputEl, {childList: true});\n",
       "}}\n",
       "\n",
       "                        })                };                });            </script>        </div>"
      ]
     },
     "metadata": {},
     "output_type": "display_data"
    }
   ],
   "source": [
    "from plotly import graph_objects as go \n",
    "fig=go.Figure()\n",
    "fig.add_trace(go.Scatter(y=[i[0] for i in demo_sup], x=[i[1] for i in demo_sup], mode=\"markers\"))\n",
    "fig.show()"
   ]
  },
  {
   "cell_type": "code",
   "execution_count": 75,
   "metadata": {},
   "outputs": [],
   "source": [
    "bird=[(2022,391),(2021,391),(2021,379),(2020,373),(2019,373),(2018,377),(2017,379),(2016,380),(2015,370),(2014,369),(2013,368),(2012,362),(2011,371),(2010, 363),(2009,352),(2008,362),()]\n",
    "# 2018"
   ]
  },
  {
   "cell_type": "code",
   "execution_count": null,
   "metadata": {},
   "outputs": [],
   "source": []
  }
 ],
 "metadata": {
  "kernelspec": {
   "display_name": "base",
   "language": "python",
   "name": "python3"
  },
  "language_info": {
   "codemirror_mode": {
    "name": "ipython",
    "version": 3
   },
   "file_extension": ".py",
   "mimetype": "text/x-python",
   "name": "python",
   "nbconvert_exporter": "python",
   "pygments_lexer": "ipython3",
   "version": "3.12.3"
  }
 },
 "nbformat": 4,
 "nbformat_minor": 2
}
